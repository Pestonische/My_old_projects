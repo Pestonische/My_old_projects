{
 "cells": [
  {
   "cell_type": "code",
   "execution_count": 1,
   "id": "2fdaee08-0b7b-4cc2-8b2f-5df9f3345610",
   "metadata": {},
   "outputs": [],
   "source": [
    "import numpy as np\n",
    "import random\n",
    "import os\n",
    "\n",
    "n = 100\n",
    "m = int(n/(2*np.log(n)+np.log(np.log(n))))\n",
    "\n",
    "X1 = np.reshape([\n",
    "    [1, 1, 1, 1, 1, 1, -1, -1, -1, -1],\n",
    "[1, 1, 1, 1, 1, -1, -1, -1, -1, -1],\n",
    "[1, 1, 1, 1, -1, -1, -1, -1, -1, -1],\n",
    "[1, 1, 1, -1, -1, -1, -1, -1, -1, -1],\n",
    "[1, 1, -1, -1, -1, -1, -1, -1, -1, -1],\n",
    "[1, -1, -1, -1, -1, -1, -1, -1, -1, -1],\n",
    "[-1, -1, -1, -1, -1, -1, -1, -1, -1, -1],\n",
    "[-1, -1, -1, -1, -1, -1, -1, -1, -1, -1],\n",
    "[-1, -1, -1, -1, -1, -1, -1, -1, -1, -1],\n",
    "[-1, -1, -1, -1, -1, -1, -1, -1, -1, -1],\n",
    "], n)\n",
    "X2 = np.reshape([\n",
    "    [-1, -1, -1, -1, -1, -1, -1, -1, -1, -1],\n",
    "[-1, -1, -1, -1, -1, -1, -1, -1, -1, -1],\n",
    "[-1, -1, -1, -1, -1, -1, -1, -1, -1, -1],\n",
    "[-1, -1, -1, -1, -1, -1, -1, -1, -1, -1],\n",
    "[-1, -1, -1, -1, -1, -1, -1, -1, -1, 1],\n",
    "[-1, -1, -1, -1, -1, -1, -1, -1, 1, 1],\n",
    "[-1, -1, -1, -1, -1, -1, -1, 1, 1, 1],\n",
    "[-1, -1, -1, -1, -1, -1, 1, 1, 1, 1],\n",
    "[-1, -1, -1, -1, -1, 1, 1, 1, 1, 1],\n",
    "[-1, -1, -1, -1, 1, 1, 1, 1, 1, 1],\n",
    "], n)\n",
    "X3 = np.reshape([\n",
    "[-1, -1, -1, -1, -1, -1, -1, -1, 1, 1],\n",
    "[-1, -1, -1, -1, -1, -1, -1, 1, 1, 1],\n",
    "[-1, -1, -1, -1, -1, -1, 1, 1, 1, -1],\n",
    "[-1, -1, -1, -1, -1, 1, 1, 1, -1, -1],\n",
    "[-1, -1, -1, -1, 1, 1, 1, -1, -1, -1],\n",
    "[-1, -1, -1, 1, 1, 1, -1, -1, -1, -1],\n",
    "[-1, -1, 1, 1, 1, -1, -1, -1, -1, -1],\n",
    "[-1, 1, 1, 1, -1, -1, -1, -1, -1, -1],\n",
    "[1, 1, 1, -1, -1, -1, -1, -1, -1, -1],\n",
    "[1, 1, -1, -1, -1, -1, -1, -1, -1, -1],\n",
    "], n)\n",
    "X=[X1,X2,X3]\n",
    "testX = np.reshape([\n",
    "    [1, 1, 1, 1, 1, 1, -1, -1, -1, -1],\n",
    "[1, 1, 1, 1, 1, -1, -1, -1, -1, -1],\n",
    "[1, 1, 1, 1, -1, -1, -1, -1, -1, -1],\n",
    "[1, 1, 1, -1, -1, -1, -1, -1, -1, -1],\n",
    "[1, 1, -1, -1, -1, -1, -1, -1, -1, -1],\n",
    "[1, -1, -1, -1, 1, -1, -1, -1, -1, -1],\n",
    "[-1, -1, -1, -1, -1, -1, -1, -1, -1, -1],\n",
    "[-1, -1, -1, -1, -1, -1, -1, -1, -1, -1],\n",
    "[-1, -1, -1, -1, -1, -1, -1, -1, -1, -1],\n",
    "[-1, -1, -1, -1, -1, -1, -1, -1, -1, -1],\n",
    "], n)"
   ]
  },
  {
   "cell_type": "code",
   "execution_count": 2,
   "id": "8ee48b87-125c-4a61-8a08-417edcf7054e",
   "metadata": {},
   "outputs": [],
   "source": [
    "def activ_fun(G):\n",
    "    return np.array([1 if x > 0 else -1 for x in G])"
   ]
  },
  {
   "cell_type": "code",
   "execution_count": 3,
   "id": "982df1fa-559c-4cbe-a260-02a2eed871b9",
   "metadata": {},
   "outputs": [
    {
     "name": "stdout",
     "output_type": "stream",
     "text": [
      "[[ 0.  3.  3. ... -1. -1. -1.]\n",
      " [ 3.  0.  3. ... -1. -1. -1.]\n",
      " [ 3.  3.  0. ... -1. -1. -1.]\n",
      " ...\n",
      " [-1. -1. -1. ...  0.  3.  3.]\n",
      " [-1. -1. -1. ...  3.  0.  3.]\n",
      " [-1. -1. -1. ...  3.  3.  0.]]\n"
     ]
    }
   ],
   "source": [
    "\n",
    "W = np.zeros((n, n))\n",
    "for i in range(0, n):\n",
    "    for j in range(0, n):\n",
    "        if i == j:\n",
    "            continue\n",
    "        for k in range(0, len(X)):\n",
    "            W[i][j] += X[k][i] * X[k][j]    \n",
    "print(W)"
   ]
  },
  {
   "cell_type": "code",
   "execution_count": null,
   "id": "28127c5c-f50b-4a13-872b-3a062d1f4ab1",
   "metadata": {},
   "outputs": [],
   "source": [
    "\n",
    "A = np.zeros(len(testX))\n",
    "while True:\n",
    "    A = activ_fun(np.matmul(W, testX))\n",
    "    if np.array_equal(testX, A):\n",
    "        break\n",
    "    tastX = A\n",
    "print(A)"
   ]
  },
  {
   "cell_type": "code",
   "execution_count": null,
   "id": "8a8994db-b9b5-41e5-94b8-c6174adab92b",
   "metadata": {},
   "outputs": [],
   "source": []
  }
 ],
 "metadata": {
  "kernelspec": {
   "display_name": "Python 3",
   "language": "python",
   "name": "python3"
  },
  "language_info": {
   "codemirror_mode": {
    "name": "ipython",
    "version": 3
   },
   "file_extension": ".py",
   "mimetype": "text/x-python",
   "name": "python",
   "nbconvert_exporter": "python",
   "pygments_lexer": "ipython3",
   "version": "3.9.12"
  }
 },
 "nbformat": 4,
 "nbformat_minor": 5
}
