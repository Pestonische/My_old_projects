{
 "cells": [
  {
   "cell_type": "code",
   "execution_count": 1,
   "id": "876e402d-1131-4e64-b2a7-621bb935a97c",
   "metadata": {},
   "outputs": [],
   "source": [
    "import numpy as np\n",
    "import random\n",
    "import os\n",
    "alpha = 0.5\n",
    "beta = 0.5\n",
    "m=3\n",
    "h=50\n",
    "n=100\n",
    "V = np.random.uniform(-1, 1, size=(n, h))\n",
    "W = np.random.uniform(-1, 1, size=(h, m))\n",
    "Q = np.random.uniform(-1, 1, size=h)\n",
    "T = np.random.uniform(-1, 1, size=m)\n",
    "Y = [[1, 0, 0], [0, 1, 0], [0, 0, 0]]\n",
    "\n",
    "\n",
    "directoryTr = ['data/training/class_0', 'data/training/class_1', 'data/training/class_2'] \n",
    "classesTr = []\n",
    "for i in range(len(directoryTr)):\n",
    "    files = os.listdir(directoryTr[i])\n",
    "    classTr = []\n",
    "    with open(directoryTr[i] +'/'+ files[1]) as f:\n",
    "        for line in f:\n",
    "            classTr.append([float(x) for x in line.split()])\n",
    "    classesTr.append(np.reshape(classTr, n))\n",
    "#print( classesTr)   "
   ]
  },
  {
   "cell_type": "code",
   "execution_count": 2,
   "id": "bc009aa9-d29e-4569-9930-db872b96ca31",
   "metadata": {},
   "outputs": [],
   "source": [
    "def f(x):\n",
    "    return 1/(1+np.e**(-x))\n",
    "\n",
    "def calculate_error(actual, expected):\n",
    "    E = 0;\n",
    "    for i in range(np.size(actual)):\n",
    "        E += (expected[i] - actual[i])**2\n",
    "    E *= 0.5\n",
    "    return E"
   ]
  },
  {
   "cell_type": "code",
   "execution_count": 3,
   "id": "231ef475-5090-4447-a67d-00cc559cbeb9",
   "metadata": {},
   "outputs": [],
   "source": [
    "eps = 0.1\n",
    "delta_max = 1\n",
    "max_iteration_count = 1000\n",
    "iteration_count = 0\n",
    "G_layer = np.zeros(h)\n",
    "Y_layer = np.zeros(m)\n",
    "\n",
    "while max_iteration_count > iteration_count:\n",
    "    iteration_count += 1\n",
    "    for image_number in range(m):\n",
    "        for j in range(h):\n",
    "            g_j = 0\n",
    "            for i in range(n):\n",
    "                g_j += V[i][j] * classesTr[image_number][i]\n",
    "            g_j = f(g_j + Q[j])\n",
    "            G_layer[j] = g_j\n",
    "\n",
    "        for k in range(m):\n",
    "            y_k = 0\n",
    "            for j in range(h):\n",
    "                y_k += W[j][k] * G_layer[j]\n",
    "            y_k = f(y_k + T[k])\n",
    "            Y_layer[k] = y_k\n",
    "\n",
    "      \n",
    "\n",
    "        for j in range(h):\n",
    "            for k in range(m):\n",
    "                W[j][k] = W[j][k] + alpha * (Y[image_number][k] - Y_layer[k]) * Y_layer[k] * (1 - Y_layer[k]) * G_layer[j]\n",
    "        for k in range(m):\n",
    "            T[k] = T[k] + alpha * Y_layer[k] * (1 - Y_layer[k]) * (Y[image_number][k] - Y_layer[k])\n",
    "\n",
    "        def calculate_ej(j):\n",
    "            ej = 0\n",
    "            for k in range(m):\n",
    "                ej += (Y_layer[k] - Y[image_number][k]) * Y_layer[k] * (1 - Y_layer[k]) * W[j][k]\n",
    "            return ej\n",
    "\n",
    "        for i in range(n):\n",
    "            for j in range(h):\n",
    "                V[i][j] = V[i][j] + beta * G_layer[j] * (1 - G_layer[j]) * calculate_ej(j) * classesTr[image_number][i]\n",
    "        for j in range(h):\n",
    "            Q[j] = Q[j] + beta * G_layer[j] * (1 - G_layer[j]) * calculate_ej(j)\n",
    "  \n",
    "    \n",
    "        "
   ]
  },
  {
   "cell_type": "code",
   "execution_count": 4,
   "id": "121c3b6a-f077-4c0d-8e0b-b320d13102d3",
   "metadata": {},
   "outputs": [
    {
     "name": "stdout",
     "output_type": "stream",
     "text": [
      "[0.00014167 0.0018444  0.00356008]\n"
     ]
    }
   ],
   "source": [
    "XTe = np.reshape([\n",
    "    [0, 0, 0, 0, 0, 0, 0, 0, 0, 0],\n",
    "[0, 0, 0, 0, 0, 0, 0, 0, 0, 0],\n",
    "[0, 0, 0, 0, 0, 0, 0, 0, 0, 0],\n",
    "[0, 0, 0, 0, 0, 0, 0, 0, 0, 0],\n",
    "[0, 0, 0, 0, 0, 0, 0, 0, 0, 1],\n",
    "[0, 0, 0, 0, 0, 0, 0, 0, 1, 1],\n",
    "[0, 0, 0, 0, 1, 0, 0, 1, 1, 1],\n",
    "[0, 0, 0, 0, 0, 0, 1, 1, 1, 1],\n",
    "[0, 0, 0, 0, 0, 1, 1, 1, 1, 1],\n",
    "[0, 0, 0, 0, 1, 1, 1, 1, 1, 1],\n",
    "], n)\n",
    "print(f(np.dot(f(np.dot(XTe, V)), W)))"
   ]
  }
 ],
 "metadata": {
  "kernelspec": {
   "display_name": "Python 3",
   "language": "python",
   "name": "python3"
  },
  "language_info": {
   "codemirror_mode": {
    "name": "ipython",
    "version": 3
   },
   "file_extension": ".py",
   "mimetype": "text/x-python",
   "name": "python",
   "nbconvert_exporter": "python",
   "pygments_lexer": "ipython3",
   "version": "3.9.12"
  }
 },
 "nbformat": 4,
 "nbformat_minor": 5
}
