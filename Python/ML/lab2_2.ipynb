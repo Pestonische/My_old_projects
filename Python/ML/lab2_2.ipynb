{
 "cells": [
  {
   "cell_type": "code",
   "execution_count": 1,
   "id": "9f242d83-1c3d-4296-a76a-c9a062dd949e",
   "metadata": {},
   "outputs": [
    {
     "name": "stdout",
     "output_type": "stream",
     "text": [
      "(60000, 28, 28)\n",
      "(1800, 28, 28) (1800,)\n",
      "(900, 28, 28) (900,)\n",
      "(900, 28, 28) (900,)\n",
      "['top' 'trouser' 'pullover' 'dress' 'coat' 'sandal' 'shirt' 'sneaker'\n",
      " 'bag' 'ankle boot']\n",
      "[0, 1, 2, 3, 4, 5, 6, 7, 8, 9]\n"
     ]
    },
    {
     "data": {
      "image/png": "[encoded data removed]",
      "text/plain": [
       "<Figure size 1440x576 with 10 Axes>"
      ]
     },
     "metadata": {},
     "output_type": "display_data"
    },
    {
     "name": "stdout",
     "output_type": "stream",
     "text": [
      "(900, 28, 28) (900,) (900, 28, 28) (900,)\n"
     ]
    }
   ],
   "source": [
    "from keras.datasets import cifar10, cifar100, cifar, fashion_mnist\n",
    "from tensorflow.keras import datasets, layers, models\n",
    "from sklearn.model_selection import train_test_split\n",
    "import tensorflow as tf\n",
    "import matplotlib.pyplot as plt\n",
    "import numpy as np\n",
    "\n",
    "(X, y), _ = fashion_mnist.load_data()\n",
    "print(X.shape)\n",
    "X, _, y, _ = train_test_split(X, y, train_size=0.03)\n",
    "print(X.shape, y.shape)\n",
    "X_train, X_test, y_train, y_test = train_test_split(X, y, test_size=0.5)\n",
    "print(X_train.shape, y_train.shape)\n",
    "print(X_test.shape, y_test.shape)\n",
    "classes = np.array([\"top\", \"trouser\", \"pullover\", \"dress\", \"coat\", \"sandal\", \"shirt\", \"sneaker\", \"bag\", \"ankle boot\"])\n",
    "labels = list(range(0, 10))\n",
    "print(classes)\n",
    "print(labels)\n",
    "\n",
    "\n",
    "def visualize(images, labels, n_images=10):\n",
    "    rows = 2\n",
    "    plt.figure(figsize=(20, 8))\n",
    "    for i in range(rows):\n",
    "        for j in range(n_images // rows):\n",
    "            ax = plt.subplot(rows, n_images // rows, i * n_images // rows + j + 1)\n",
    "            plt.imshow(images[i * n_images // rows + j], cmap=\"gray\")\n",
    "            plt.grid(visible=False)\n",
    "            plt.xticks([])\n",
    "            plt.yticks([])\n",
    "            plt.title(labels[i * n_images // rows + j])\n",
    "    plt.show()\n",
    "\n",
    "\n",
    "labels, idx = np.unique(y_train, return_index=True)\n",
    "visualize(X_train[idx, :, :], classes)\n",
    "\n",
    "print(X_train.shape, y_train.shape, X_test.shape, y_test.shape)\n",
    "X_train, X_test = X_train / 255.0, X_test / 255.0"
   ]
  },
  {
   "cell_type": "code",
   "execution_count": 2,
   "id": "8c8765b2-de16-4881-aba6-ee8866f6de36",
   "metadata": {},
   "outputs": [],
   "source": [
    "model = models.Sequential()\n",
    "model.add(layers.Conv2D(28, (3, 3), activation='relu', input_shape=(28, 28, 1)))\n",
    "model.add(layers.MaxPooling2D((2, 2)))\n",
    "model.add(layers.Conv2D(56, (3, 3), activation='relu'))\n",
    "model.add(layers.MaxPooling2D((2, 2)))\n",
    "model.add(layers.Conv2D(56, (3, 3), activation='relu'))\n"
   ]
  },
  {
   "cell_type": "code",
   "execution_count": 3,
   "id": "84ff3245-955a-4bf5-8da4-67bd80495e90",
   "metadata": {},
   "outputs": [
    {
     "name": "stdout",
     "output_type": "stream",
     "text": [
      "Model: \"sequential\"\n",
      "_________________________________________________________________\n",
      " Layer (type)                Output Shape              Param #   \n",
      "=================================================================\n",
      " conv2d (Conv2D)             (None, 26, 26, 28)        280       \n",
      "                                                                 \n",
      " max_pooling2d (MaxPooling2D  (None, 13, 13, 28)       0         \n",
      " )                                                               \n",
      "                                                                 \n",
      " conv2d_1 (Conv2D)           (None, 11, 11, 56)        14168     \n",
      "                                                                 \n",
      " max_pooling2d_1 (MaxPooling  (None, 5, 5, 56)         0         \n",
      " 2D)                                                             \n",
      "                                                                 \n",
      " conv2d_2 (Conv2D)           (None, 3, 3, 56)          28280     \n",
      "                                                                 \n",
      "=================================================================\n",
      "Total params: 42,728\n",
      "Trainable params: 42,728\n",
      "Non-trainable params: 0\n",
      "_________________________________________________________________\n"
     ]
    }
   ],
   "source": [
    "model.summary()"
   ]
  },
  {
   "cell_type": "code",
   "execution_count": 4,
   "id": "a2b7be46-d8f5-47ec-af2c-6e25c4caf3bc",
   "metadata": {},
   "outputs": [],
   "source": [
    "model.add(layers.Flatten())\n",
    "model.add(layers.Dense(56, activation='relu'))\n",
    "model.add(layers.Dense(10))"
   ]
  },
  {
   "cell_type": "code",
   "execution_count": 5,
   "id": "b0181701-db2e-49ee-b4b7-4eef840befdb",
   "metadata": {},
   "outputs": [
    {
     "name": "stdout",
     "output_type": "stream",
     "text": [
      "Model: \"sequential\"\n",
      "_________________________________________________________________\n",
      " Layer (type)                Output Shape              Param #   \n",
      "=================================================================\n",
      " conv2d (Conv2D)             (None, 26, 26, 28)        280       \n",
      "                                                                 \n",
      " max_pooling2d (MaxPooling2D  (None, 13, 13, 28)       0         \n",
      " )                                                               \n",
      "                                                                 \n",
      " conv2d_1 (Conv2D)           (None, 11, 11, 56)        14168     \n",
      "                                                                 \n",
      " max_pooling2d_1 (MaxPooling  (None, 5, 5, 56)         0         \n",
      " 2D)                                                             \n",
      "                                                                 \n",
      " conv2d_2 (Conv2D)           (None, 3, 3, 56)          28280     \n",
      "                                                                 \n",
      " flatten (Flatten)           (None, 504)               0         \n",
      "                                                                 \n",
      " dense (Dense)               (None, 56)                28280     \n",
      "                                                                 \n",
      " dense_1 (Dense)             (None, 10)                570       \n",
      "                                                                 \n",
      "=================================================================\n",
      "Total params: 71,578\n",
      "Trainable params: 71,578\n",
      "Non-trainable params: 0\n",
      "_________________________________________________________________\n"
     ]
    }
   ],
   "source": [
    "model.summary()"
   ]
  },
  {
   "cell_type": "code",
   "execution_count": 6,
   "id": "a30a37a8-8f80-4abd-9eae-a6f520bfd7fe",
   "metadata": {},
   "outputs": [
    {
     "name": "stdout",
     "output_type": "stream",
     "text": [
      "Epoch 1/10\n",
      "29/29 [==============================] - 1s 19ms/step - loss: 1.8515 - accuracy: 0.4078 - val_loss: 1.2691 - val_accuracy: 0.5133\n",
      "Epoch 2/10\n",
      "29/29 [==============================] - 0s 12ms/step - loss: 1.0802 - accuracy: 0.5933 - val_loss: 0.9757 - val_accuracy: 0.6133\n",
      "Epoch 3/10\n",
      "29/29 [==============================] - 0s 12ms/step - loss: 0.8874 - accuracy: 0.6478 - val_loss: 0.8358 - val_accuracy: 0.6767\n",
      "Epoch 4/10\n",
      "29/29 [==============================] - 0s 11ms/step - loss: 0.7542 - accuracy: 0.7133 - val_loss: 0.7790 - val_accuracy: 0.6944\n",
      "Epoch 5/10\n",
      "29/29 [==============================] - 0s 11ms/step - loss: 0.6993 - accuracy: 0.7244 - val_loss: 0.7280 - val_accuracy: 0.7333\n",
      "Epoch 6/10\n",
      "29/29 [==============================] - 0s 11ms/step - loss: 0.7117 - accuracy: 0.7256 - val_loss: 0.7783 - val_accuracy: 0.6989\n",
      "Epoch 7/10\n",
      "29/29 [==============================] - 0s 11ms/step - loss: 0.6141 - accuracy: 0.7744 - val_loss: 0.6979 - val_accuracy: 0.7489\n",
      "Epoch 8/10\n",
      "29/29 [==============================] - 0s 12ms/step - loss: 0.5809 - accuracy: 0.7811 - val_loss: 0.6357 - val_accuracy: 0.7689\n",
      "Epoch 9/10\n",
      "29/29 [==============================] - 0s 12ms/step - loss: 0.5287 - accuracy: 0.8044 - val_loss: 0.6781 - val_accuracy: 0.7367\n",
      "Epoch 10/10\n",
      "29/29 [==============================] - 0s 11ms/step - loss: 0.4796 - accuracy: 0.8200 - val_loss: 0.6433 - val_accuracy: 0.7767\n"
     ]
    }
   ],
   "source": [
    "model.compile(optimizer='adam',\n",
    "              loss=tf.keras.losses.SparseCategoricalCrossentropy(from_logits=True),\n",
    "              metrics=['accuracy'])\n",
    "\n",
    "history = model.fit(X_train, y_train, epochs=10, \n",
    "                    validation_data=(X_test, y_test))"
   ]
  },
  {
   "cell_type": "code",
   "execution_count": 7,
   "id": "f833b28e-37a4-4a3d-9ff0-95562230fd8d",
   "metadata": {},
   "outputs": [
    {
     "name": "stdout",
     "output_type": "stream",
     "text": [
      "29/29 - 0s - loss: 0.6433 - accuracy: 0.7767 - 100ms/epoch - 3ms/step\n"
     ]
    },
    {
     "data": {
      "image/png": "[encoded data removed]",
      "text/plain": [
       "<Figure size 432x288 with 1 Axes>"
      ]
     },
     "metadata": {
      "needs_background": "light"
     },
     "output_type": "display_data"
    }
   ],
   "source": [
    "plt.plot(history.history['accuracy'], label='accuracy')\n",
    "plt.plot(history.history['val_accuracy'], label = 'val_accuracy')\n",
    "plt.xlabel('Epoch')\n",
    "plt.ylabel('Accuracy')\n",
    "plt.ylim([0.5, 1])\n",
    "plt.legend(loc='lower right')\n",
    "\n",
    "test_loss, test_acc = model.evaluate(X_test,  y_test, verbose=2)"
   ]
  },
  {
   "cell_type": "code",
   "execution_count": 8,
   "id": "521501e3-9e4b-41a7-9f47-58a6b8d2fe29",
   "metadata": {},
   "outputs": [
    {
     "name": "stdout",
     "output_type": "stream",
     "text": [
      "0.7766666412353516\n"
     ]
    }
   ],
   "source": [
    "print(test_acc)"
   ]
  }
 ],
 "metadata": {
  "kernelspec": {
   "display_name": "Python 3",
   "language": "python",
   "name": "python3"
  },
  "language_info": {
   "codemirror_mode": {
    "name": "ipython",
    "version": 3
   },
   "file_extension": ".py",
   "mimetype": "text/x-python",
   "name": "python",
   "nbconvert_exporter": "python",
   "pygments_lexer": "ipython3",
   "version": "3.9.12"
  }
 },
 "nbformat": 4,
 "nbformat_minor": 5
}
