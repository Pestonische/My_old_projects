{
 "cells": [
  {
   "cell_type": "code",
   "execution_count": 1,
   "id": "9653dd49-de30-4e91-a52c-ded8f5a5dfbe",
   "metadata": {},
   "outputs": [],
   "source": [
    "import numpy as np\n",
    "\n",
    "n = 100 \n",
    "m = int(n/(2*np.log(n)+np.log(np.log(n))))"
   ]
  },
  {
   "cell_type": "code",
   "execution_count": 2,
   "id": "b410e020-625c-453f-9d23-ae3a8f7da512",
   "metadata": {
    "tags": []
   },
   "outputs": [],
   "source": [
    "X1 = np.reshape([\n",
    "    [1, 1, 1, 1, 1, 1, -1, -1, -1, -1],\n",
    "[1, 1, 1, 1, 1, -1, -1, -1, -1, -1],\n",
    "[1, 1, 1, 1, -1, -1, -1, -1, -1, -1],\n",
    "[1, 1, 1, -1, -1, -1, -1, -1, -1, -1],\n",
    "[1, 1, -1, -1, -1, -1, -1, -1, -1, -1],\n",
    "[1, -1, -1, -1, -1, -1, -1, -1, -1, -1],\n",
    "[-1, -1, -1, -1, -1, -1, -1, -1, -1, -1],\n",
    "[-1, -1, -1, -1, -1, -1, -1, -1, -1, -1],\n",
    "[-1, -1, -1, -1, -1, -1, -1, -1, -1, -1],\n",
    "[-1, -1, -1, -1, -1, -1, -1, -1, -1, -1],\n",
    "], n)\n",
    "X2 = np.reshape([\n",
    "    [-1, -1, -1, -1, -1, -1, -1, -1, -1, -1],\n",
    "[-1, -1, -1, -1, -1, -1, -1, -1, -1, -1],\n",
    "[-1, -1, -1, -1, -1, -1, -1, -1, -1, -1],\n",
    "[-1, -1, -1, -1, -1, -1, -1, -1, -1, -1],\n",
    "[-1, -1, -1, -1, -1, -1, -1, -1, -1, 1],\n",
    "[-1, -1, -1, -1, -1, -1, -1, -1, 1, 1],\n",
    "[-1, -1, -1, -1, -1, -1, -1, 1, 1, 1],\n",
    "[-1, -1, -1, -1, -1, -1, 1, 1, 1, 1],\n",
    "[-1, -1, -1, -1, -1, 1, 1, 1, 1, 1],\n",
    "[-1, -1, -1, -1, 1, 1, 1, 1, 1, 1],\n",
    "], n)\n",
    "X3 = np.reshape([\n",
    "[-1, -1, -1, -1, -1, -1, -1, -1, 1, 1],\n",
    "[-1, -1, -1, -1, -1, -1, -1, 1, 1, 1],\n",
    "[-1, -1, -1, -1, -1, -1, 1, 1, 1, -1],\n",
    "[-1, -1, -1, -1, -1, 1, 1, 1, -1, -1],\n",
    "[-1, -1, -1, -1, 1, 1, 1, -1, -1, -1],\n",
    "[-1, -1, -1, 1, 1, 1, -1, -1, -1, -1],\n",
    "[-1, -1, 1, 1, 1, -1, -1, -1, -1, -1],\n",
    "[-1, 1, 1, 1, -1, -1, -1, -1, -1, -1],\n",
    "[1, 1, 1, -1, -1, -1, -1, -1, -1, -1],\n",
    "[1, 1, -1, -1, -1, -1, -1, -1, -1, -1],\n",
    "], n)\n",
    "X=[X1,X2,X3]\n",
    "testX = np.reshape([\n",
    "    [1, 1, 1, 1, 1, 1, -1, -1, -1, -1],\n",
    "[1, 1, 1, 1, 1, -1, -1, -1, -1, -1],\n",
    "[1, 1, 1, 1, -1, -1, -1, -1, -1, -1],\n",
    "[1, 1, 1, -1, -1, -1, -1, -1, -1, -1],\n",
    "[1, 1, -1, -1, -1, -1, -1, -1, -1, -1],\n",
    "[1, -1, -1, -1, 1, -1, -1, -1, -1, -1],\n",
    "[-1, -1, -1, -1, -1, -1, -1, -1, -1, -1],\n",
    "[-1, -1, -1, -1, -1, -1, -1, -1, -1, -1],\n",
    "[-1, -1, -1, -1, -1, -1, -1, -1, -1, -1],\n",
    "[-1, -1, -1, -1, -1, -1, -1, -1, -1, -1],\n",
    "], n)\n"
   ]
  },
  {
   "cell_type": "markdown",
   "id": "d05ce7b2-fc78-42b8-9f56-176a9f81b75d",
   "metadata": {},
   "source": [
    "<!-- Comptuting W matrix -->"
   ]
  },
  {
   "cell_type": "code",
   "execution_count": 3,
   "id": "04fd37b0-1e4f-40d0-9469-eebd5bbf22c3",
   "metadata": {},
   "outputs": [],
   "source": [
    "def activ_fun(a):\n",
    "    return np.array([1 if x > 0 else -1 for x in a])"
   ]
  },
  {
   "cell_type": "code",
   "execution_count": 4,
   "id": "31e017e6-b3e6-4dcd-a11d-2f81d00ac4f3",
   "metadata": {},
   "outputs": [
    {
     "name": "stdout",
     "output_type": "stream",
     "text": [
      "[[ 0.  3.  3. ... -1. -1. -1.]\n",
      " [ 3.  0.  3. ... -1. -1. -1.]\n",
      " [ 3.  3.  0. ... -1. -1. -1.]\n",
      " ...\n",
      " [-1. -1. -1. ...  0.  3.  3.]\n",
      " [-1. -1. -1. ...  3.  0.  3.]\n",
      " [-1. -1. -1. ...  3.  3.  0.]]\n"
     ]
    }
   ],
   "source": [
    "W = np.zeros((n, n))\n",
    "for i in range(0, n):\n",
    "    for j in range(0, n):\n",
    "        if i == j:\n",
    "            continue\n",
    "        for k in range(0, len(X)):\n",
    "            W[i][j] += X[k][i] * X[k][j]    \n",
    "print(W)"
   ]
  },
  {
   "cell_type": "code",
   "execution_count": 5,
   "id": "5eebfbac-5bec-4d55-bdec-e767047e2031",
   "metadata": {},
   "outputs": [
    {
     "name": "stdout",
     "output_type": "stream",
     "text": [
      "\n",
      "1 1 1 1 1 1 -1 -1 -1 -1 \n",
      "1 1 1 1 1 -1 -1 -1 -1 -1 \n",
      "1 1 1 1 -1 -1 -1 -1 -1 -1 \n",
      "1 1 1 -1 -1 -1 -1 -1 -1 -1 \n",
      "1 1 -1 -1 -1 -1 -1 -1 -1 -1 \n",
      "1 -1 -1 -1 -1 -1 -1 -1 -1 -1 \n",
      "-1 -1 -1 -1 -1 -1 -1 -1 -1 -1 \n",
      "-1 -1 -1 -1 -1 -1 -1 -1 -1 -1 \n",
      "-1 -1 -1 -1 -1 -1 -1 -1 -1 -1 \n",
      "-1 -1 -1 -1 -1 -1 -1 -1 -1 -1 "
     ]
    }
   ],
   "source": [
    "A = np.zeros(len(testX))\n",
    "\n",
    "while True:\n",
    "    \n",
    "    A = activ_fun(np.matmul(W, testX))\n",
    "    if np.array_equal(testX, A):\n",
    "        break\n",
    "    testX = A\n",
    "    \n",
    "for i in range(len(A)):\n",
    "    if i%10==0:\n",
    "        print()\n",
    "    print(A[i], end = ' ')"
   ]
  },
  {
   "cell_type": "code",
   "execution_count": null,
   "id": "2780f9df-5425-4eeb-9720-bf10345c36aa",
   "metadata": {},
   "outputs": [],
   "source": []
  }
 ],
 "metadata": {
  "kernelspec": {
   "display_name": "Python 3",
   "language": "python",
   "name": "python3"
  },
  "language_info": {
   "codemirror_mode": {
    "name": "ipython",
    "version": 3
   },
   "file_extension": ".py",
   "mimetype": "text/x-python",
   "name": "python",
   "nbconvert_exporter": "python",
   "pygments_lexer": "ipython3",
   "version": "3.9.12"
  }
 },
 "nbformat": 4,
 "nbformat_minor": 5
}
